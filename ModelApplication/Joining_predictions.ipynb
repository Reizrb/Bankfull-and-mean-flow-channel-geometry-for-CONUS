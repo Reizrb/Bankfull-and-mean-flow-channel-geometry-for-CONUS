{
 "cells": [
  {
   "cell_type": "markdown",
   "id": "24681e51",
   "metadata": {},
   "source": [
    "## Import required libraries"
   ]
  },
  {
   "cell_type": "code",
   "execution_count": 1,
   "id": "b85bdabb",
   "metadata": {},
   "outputs": [],
   "source": [
    "import pandas as pd\n",
    "import numpy as np\n",
    "from utils import Merge_Multiple_Files, Read_Multiple_Files"
   ]
  },
  {
   "cell_type": "markdown",
   "id": "4bf8c842",
   "metadata": {},
   "source": [
    "## Read datasets"
   ]
  },
  {
   "cell_type": "code",
   "execution_count": 2,
   "id": "b98416bd",
   "metadata": {
    "scrolled": false
   },
   "outputs": [],
   "source": [
    "directory = './ModelApplication/Output' \n",
    "dfs = Read_Multiple_Files(directory, '.txt')"
   ]
  },
  {
   "cell_type": "markdown",
   "id": "7b6ea34d",
   "metadata": {},
   "source": [
    "## Drop duplicate columns"
   ]
  },
  {
   "cell_type": "code",
   "execution_count": 3,
   "id": "4f7f4ef6",
   "metadata": {},
   "outputs": [],
   "source": [
    "for i in range (1,4):\n",
    "    dfs[i] = dfs[i].drop(columns=['Unnamed: 0', 'REACHCODE', 'TotDASqKM_y', 'StreamOrde_y'])"
   ]
  },
  {
   "cell_type": "markdown",
   "id": "a2c1750e",
   "metadata": {},
   "source": [
    "## Merging datasets"
   ]
  },
  {
   "cell_type": "code",
   "execution_count": 4,
   "id": "8a74f90d",
   "metadata": {},
   "outputs": [],
   "source": [
    "Bankfull_Meanflow_CONUS = Merge_Multiple_Files(dfs, 'COMID')\n",
    "Bankfull_Meanflow_CONUS = Bankfull_Meanflow_CONUS.drop(columns=['Unnamed: 0'])\n",
    "Bankfull_Meanflow_CONUS.rename(columns = {'TotDASqKM_y':'TotDASqKM', 'StreamOrde_y':'StreamOrde'}, inplace = True)"
   ]
  },
  {
   "cell_type": "markdown",
   "id": "a2889e23",
   "metadata": {},
   "source": [
    "## Export final dataset"
   ]
  },
  {
   "cell_type": "code",
   "execution_count": 5,
   "id": "ae99bb31",
   "metadata": {},
   "outputs": [],
   "source": [
    "Bankfull_Meanflow_CONUS.to_csv('./ModelApplication/Output/Bankfull_Meanflow_CONUS.txt')"
   ]
  },
  {
   "cell_type": "markdown",
   "id": "1f1d7917",
   "metadata": {},
   "source": [
    "## Final dataset statistic description"
   ]
  },
  {
   "cell_type": "code",
   "execution_count": 6,
   "id": "f33b9c85",
   "metadata": {},
   "outputs": [
    {
     "data": {
      "text/html": [
       "<div>\n",
       "<style scoped>\n",
       "    .dataframe tbody tr th:only-of-type {\n",
       "        vertical-align: middle;\n",
       "    }\n",
       "\n",
       "    .dataframe tbody tr th {\n",
       "        vertical-align: top;\n",
       "    }\n",
       "\n",
       "    .dataframe thead th {\n",
       "        text-align: right;\n",
       "    }\n",
       "</style>\n",
       "<table border=\"1\" class=\"dataframe\">\n",
       "  <thead>\n",
       "    <tr style=\"text-align: right;\">\n",
       "      <th></th>\n",
       "      <th>TotDASqKM</th>\n",
       "      <th>StreamOrde</th>\n",
       "      <th>bnk_depth</th>\n",
       "      <th>bnk_width</th>\n",
       "      <th>mf_depth</th>\n",
       "      <th>mf_width</th>\n",
       "    </tr>\n",
       "  </thead>\n",
       "  <tbody>\n",
       "    <tr>\n",
       "      <th>count</th>\n",
       "      <td>2642259.00</td>\n",
       "      <td>2642259.00</td>\n",
       "      <td>2642259.00</td>\n",
       "      <td>2642259.00</td>\n",
       "      <td>2642259.00</td>\n",
       "      <td>2642259.00</td>\n",
       "    </tr>\n",
       "    <tr>\n",
       "      <th>mean</th>\n",
       "      <td>3992.41</td>\n",
       "      <td>2.05</td>\n",
       "      <td>1.46</td>\n",
       "      <td>27.22</td>\n",
       "      <td>1.19</td>\n",
       "      <td>27.94</td>\n",
       "    </tr>\n",
       "    <tr>\n",
       "      <th>std</th>\n",
       "      <td>66421.62</td>\n",
       "      <td>1.45</td>\n",
       "      <td>0.72</td>\n",
       "      <td>31.25</td>\n",
       "      <td>0.59</td>\n",
       "      <td>33.83</td>\n",
       "    </tr>\n",
       "    <tr>\n",
       "      <th>min</th>\n",
       "      <td>0.00</td>\n",
       "      <td>1.00</td>\n",
       "      <td>0.66</td>\n",
       "      <td>5.96</td>\n",
       "      <td>0.32</td>\n",
       "      <td>0.00</td>\n",
       "    </tr>\n",
       "    <tr>\n",
       "      <th>25%</th>\n",
       "      <td>2.44</td>\n",
       "      <td>1.00</td>\n",
       "      <td>1.04</td>\n",
       "      <td>17.03</td>\n",
       "      <td>0.91</td>\n",
       "      <td>13.50</td>\n",
       "    </tr>\n",
       "    <tr>\n",
       "      <th>50%</th>\n",
       "      <td>7.73</td>\n",
       "      <td>1.00</td>\n",
       "      <td>1.27</td>\n",
       "      <td>21.48</td>\n",
       "      <td>1.07</td>\n",
       "      <td>23.13</td>\n",
       "    </tr>\n",
       "    <tr>\n",
       "      <th>75%</th>\n",
       "      <td>48.96</td>\n",
       "      <td>3.00</td>\n",
       "      <td>1.65</td>\n",
       "      <td>27.47</td>\n",
       "      <td>1.33</td>\n",
       "      <td>33.64</td>\n",
       "    </tr>\n",
       "    <tr>\n",
       "      <th>max</th>\n",
       "      <td>3133386.89</td>\n",
       "      <td>10.00</td>\n",
       "      <td>18.01</td>\n",
       "      <td>1039.44</td>\n",
       "      <td>24.21</td>\n",
       "      <td>1118.94</td>\n",
       "    </tr>\n",
       "  </tbody>\n",
       "</table>\n",
       "</div>"
      ],
      "text/plain": [
       "        TotDASqKM  StreamOrde   bnk_depth   bnk_width    mf_depth    mf_width\n",
       "count  2642259.00  2642259.00  2642259.00  2642259.00  2642259.00  2642259.00\n",
       "mean      3992.41        2.05        1.46       27.22        1.19       27.94\n",
       "std      66421.62        1.45        0.72       31.25        0.59       33.83\n",
       "min          0.00        1.00        0.66        5.96        0.32        0.00\n",
       "25%          2.44        1.00        1.04       17.03        0.91       13.50\n",
       "50%          7.73        1.00        1.27       21.48        1.07       23.13\n",
       "75%         48.96        3.00        1.65       27.47        1.33       33.64\n",
       "max    3133386.89       10.00       18.01     1039.44       24.21     1118.94"
      ]
     },
     "execution_count": 6,
     "metadata": {},
     "output_type": "execute_result"
    }
   ],
   "source": [
    "Bankfull_Meanflow_CONUS.loc[:, ['TotDASqKM','StreamOrde','bnk_depth','bnk_width','mf_depth','mf_width']].describe().applymap(lambda x: f\"{x:0.2f}\")"
   ]
  }
 ],
 "metadata": {
  "kernelspec": {
   "display_name": "Python 3 (ipykernel)",
   "language": "python",
   "name": "python3"
  },
  "language_info": {
   "codemirror_mode": {
    "name": "ipython",
    "version": 3
   },
   "file_extension": ".py",
   "mimetype": "text/x-python",
   "name": "python",
   "nbconvert_exporter": "python",
   "pygments_lexer": "ipython3",
   "version": "3.9.13"
  }
 },
 "nbformat": 4,
 "nbformat_minor": 5
}
